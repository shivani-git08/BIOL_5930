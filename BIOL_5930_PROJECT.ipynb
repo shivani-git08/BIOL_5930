{
  "nbformat": 4,
  "nbformat_minor": 0,
  "metadata": {
    "colab": {
      "provenance": [],
      "authorship_tag": "ABX9TyMi+FX0GyketNkHZ7sg0QgC",
      "include_colab_link": true
    },
    "kernelspec": {
      "name": "python3",
      "display_name": "Python 3"
    },
    "language_info": {
      "name": "python"
    }
  },
  "cells": [
    {
      "cell_type": "markdown",
      "metadata": {
        "id": "view-in-github",
        "colab_type": "text"
      },
      "source": [
        "<a href=\"https://colab.research.google.com/github/shivani-git08/BIOL_5930/blob/main/BIOL_5930_PROJECT.ipynb\" target=\"_parent\"><img src=\"https://colab.research.google.com/assets/colab-badge.svg\" alt=\"Open In Colab\"/></a>"
      ]
    },
    {
      "cell_type": "code",
      "execution_count": null,
      "metadata": {
        "id": "t6hUL_E5DkAV"
      },
      "outputs": [],
      "source": []
    },
    {
      "cell_type": "markdown",
      "source": [
        "**KINOME PROJECT**"
      ],
      "metadata": {
        "id": "M6AyOA9kDlUS"
      }
    },
    {
      "cell_type": "markdown",
      "source": [
        "**PARALLEL COMPUTING SCRIPT(NO OUTLIER)**"
      ],
      "metadata": {
        "id": "HFX6aMCGDo8h"
      }
    },
    {
      "cell_type": "code",
      "source": [
        "import os\n",
        "import pandas as pd\n",
        "import matplotlib.pyplot as plt\n",
        "import numpy as np\n",
        "from scipy.interpolate import make_interp_spline\n",
        "from scipy.optimize import curve_fit\n",
        "import math\n",
        "\n",
        "def logistic_function(x, L, k, x0):\n",
        "    return L / (1 + np.exp(-k * (x - x0)))\n",
        "\n",
        "\n",
        "def get_cell_line_order(input_file):\n",
        "    df = pd.read_excel(input_file, header=7)\n",
        "    return [col.split(' ')[0] for col in df.columns if col != 'Elapsed' and col != 'Date Time']\n",
        "\n",
        "\n",
        "def calculate_mean_std_dev_and_counts(input_file, output_file):\n",
        "    df = pd.read_excel(input_file, header=7)\n",
        "    df['Elapsed'] = pd.to_numeric(df['Elapsed'], errors='coerce')\n",
        "    df = df[df['Elapsed'].between(0, 140)]\n",
        "    elapsed_time = df['Elapsed']\n",
        "\n",
        "\n",
        "    cell_line_order = get_cell_line_order(input_file)\n",
        "    combined_data = {'Elapsed': elapsed_time}\n",
        "\n",
        "\n",
        "    for prefix in cell_line_order:\n",
        "        columns = [col for col in df.columns if col.startswith(prefix + ' ') and col != 'Date Time']\n",
        "        if columns:\n",
        "            cell_line_data = df[columns]\n",
        "            combined_data[f\"{prefix} Mean\"] = cell_line_data.mean(axis=1)\n",
        "            combined_data[f\"{prefix} STD DEV\"] = cell_line_data.std(axis=1)\n",
        "            combined_data[f\"{prefix} COUNTS\"] = [f\"{prefix} - {cell_line_data.shape[1]}\"] * len(elapsed_time)\n",
        "\n",
        "    combined_df = pd.DataFrame(combined_data)\n",
        "    combined_df.to_excel(output_file, index=False)\n",
        "\n",
        "\n",
        "def calculate_growth_rates_and_doubling_times(data_file, output_file):\n",
        "    data = pd.read_excel(data_file)\n",
        "    elapsed_time = data['Elapsed'].values\n",
        "    columns_to_calculate = [col for col in data.columns if col.endswith(' Mean')]\n",
        "    growth_rates_and_doubling_times = []\n",
        "\n",
        "    for column in columns_to_calculate:\n",
        "        par_mean = data[column].values\n",
        "        valid_elapsed = elapsed_time[~np.isnan(par_mean)]\n",
        "        valid_par_mean = par_mean[~np.isnan(par_mean)]\n",
        "\n",
        "        if len(valid_par_mean) > 0:\n",
        "            try:\n",
        "                y_max, y_min = np.nanmax(valid_par_mean), np.nanmin(valid_par_mean)\n",
        "                x_max, x_min = np.nanmax(valid_elapsed), np.nanmin(valid_elapsed)\n",
        "                x_mid, y_mid = (x_max + x_min) / 2, (y_max + y_min) / 2\n",
        "                L_init, k_init = y_max, 4 / (x_max - x_min)\n",
        "                x0_init = x_mid - np.log((y_max - y_mid) / (y_mid - y_min)) / k_init\n",
        "\n",
        "                popt, _ = curve_fit(logistic_function, valid_elapsed, valid_par_mean, p0=[L_init, k_init, x0_init])\n",
        "                L_opt, k_opt, x0_opt = popt\n",
        "                growth_rate = k_opt\n",
        "                doubling_time = math.log(2) / growth_rate\n",
        "            except:\n",
        "                L_opt, k_opt, x0_opt = np.nan, np.nan, np.nan\n",
        "                growth_rate = np.nan\n",
        "                doubling_time = np.nan\n",
        "        else:\n",
        "            L_opt, k_opt, x0_opt = np.nan, np.nan, np.nan\n",
        "            growth_rate = np.nan\n",
        "            doubling_time = np.nan\n",
        "\n",
        "        growth_rates_and_doubling_times.append({\n",
        "            'Column': column.replace(' Mean', ''),\n",
        "            'Growth Rate': growth_rate,\n",
        "            'Doubling Time': doubling_time,\n",
        "            'Max Carrying Capacity (L)': L_opt,\n",
        "            'Midpoint (x0)': x0_opt,\n",
        "            'Time Range': f\"0 to {np.max(valid_elapsed):.2f} hours\" if len(valid_elapsed) > 0 else \"N/A\"\n",
        "        })\n",
        "\n",
        "    growth_rate_and_doubling_time_df = pd.DataFrame(growth_rates_and_doubling_times)\n",
        "    growth_rate_and_doubling_time_df.to_excel(output_file, index=False)\n",
        "\n",
        "def plot_smooth_growth_curve(input_file, output_image):\n",
        "    df = pd.read_excel(input_file)\n",
        "    elapsed_time = df['Elapsed']\n",
        "\n",
        "    columns_to_plot = [col for col in df.columns if col.endswith(' Mean')]\n",
        "\n",
        "    plt.figure(figsize=(14, 8))\n",
        "    colors = plt.cm.get_cmap('tab10', len(columns_to_plot))\n",
        "\n",
        "    for i, column in enumerate(columns_to_plot):\n",
        "        mean_data = df[column]\n",
        "        std_column = column.replace(' Mean', ' STD DEV')\n",
        "        std_data = df[std_column]\n",
        "\n",
        "        if not mean_data.isnull().all():\n",
        "            spline_mean = make_interp_spline(elapsed_time, mean_data, k=3)\n",
        "            smooth_time = np.linspace(elapsed_time.min(), elapsed_time.max(), 500)\n",
        "            smooth_mean = spline_mean(smooth_time)\n",
        "\n",
        "            plt.plot(smooth_time, smooth_mean, label=column.replace(' Mean', ''), color=colors(i))\n",
        "            plt.errorbar(elapsed_time, mean_data, yerr=std_data, fmt='o', capsize=2, color=colors(i))\n",
        "\n",
        "    plt.xlabel('Time (hours)')\n",
        "    plt.ylabel('% Confluence')\n",
        "    plt.title('Growth Curve')\n",
        "    plt.legend()\n",
        "    plt.grid(True)\n",
        "    plt.xticks(np.arange(0, 141, 24))\n",
        "    plt.savefig(output_image, format='png')\n",
        "    plt.close()\n",
        "\n",
        "def process_files(file_list, output_dir):\n",
        "    os.makedirs(output_dir, exist_ok=True)\n",
        "\n",
        "    for input_file in file_list:\n",
        "        filename = os.path.splitext(os.path.basename(input_file))[0]\n",
        "\n",
        "        mean_std_dev_counts_output = os.path.join(output_dir, f\"{filename}_mean_stdev_counts.xlsx\")\n",
        "        growth_rate_and_doubling_time_output = os.path.join(output_dir, f\"{filename}_GR_DT.xlsx\")\n",
        "        growth_curve_output_image = os.path.join(output_dir, f\"{filename}_growth_curve.png\")\n",
        "\n",
        "        calculate_mean_std_dev_and_counts(input_file, mean_std_dev_counts_output)\n",
        "        calculate_growth_rates_and_doubling_times(mean_std_dev_counts_output, growth_rate_and_doubling_time_output)\n",
        "        plot_smooth_growth_curve(mean_std_dev_counts_output, growth_curve_output_image)\n",
        "\n",
        "def main():\n",
        "    # List of input files\n",
        "    input_files = [\n",
        "    ]\n",
        "\n",
        "    output_dir = \"output\"\n",
        "\n",
        "    process_files(input_files, output_dir)\n",
        "\n",
        "if __name__ == \"__main__\":\n",
        "    main()"
      ],
      "metadata": {
        "id": "GQOch_VDIRaz"
      },
      "execution_count": null,
      "outputs": []
    }
  ]
}